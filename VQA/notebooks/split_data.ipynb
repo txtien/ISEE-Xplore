{
 "cells": [
  {
   "cell_type": "code",
   "execution_count": 1,
   "metadata": {},
   "outputs": [],
   "source": [
    "from pathlib import Path\n",
    "root = Path.cwd().parent\n",
    "DATA_PATH = root / 'data'\n",
    "RESOURCES = root / 'resources'"
   ]
  },
  {
   "cell_type": "code",
   "execution_count": 2,
   "metadata": {},
   "outputs": [],
   "source": [
    "import os\n",
    "import json\n",
    "from tqdm import tqdm\n",
    "from sklearn.preprocessing import LabelEncoder\n",
    "import pickle"
   ]
  },
  {
   "cell_type": "markdown",
   "metadata": {},
   "source": [
    "# Step 0: Get all data of 2017"
   ]
  },
  {
   "cell_type": "code",
   "execution_count": 3,
   "metadata": {},
   "outputs": [],
   "source": [
    "def create_id_list(jsonfile):\n",
    "    id_list = []\n",
    "    with open(jsonfile) as f:\n",
    "        data = json.load(f)\n",
    "    for item in data['annotations']:\n",
    "        id_list.append(item['image_id'])\n",
    "    return set(id_list)\n",
    "train_id_2017 = list(create_id_list(str(DATA_PATH / 'train2017.json')))\n",
    "val_id_2017 = list(create_id_list(str(DATA_PATH / 'val2017.json')))\n",
    "# train2017.json and val2017.json are belong to Cocodataset 2017 for image captioning"
   ]
  },
  {
   "cell_type": "markdown",
   "metadata": {},
   "source": [
    "# Step 1: Create all item question-answer"
   ]
  },
  {
   "cell_type": "code",
   "execution_count": 3,
   "metadata": {},
   "outputs": [],
   "source": [
    "def merge_json(json1, json2, type_):\n",
    "    list1, list2 = list(), list()\n",
    "    with open(json1) as f:\n",
    "        data1 = json.load(f)\n",
    "    for item in data1[type_]:\n",
    "        list1.append(item)\n",
    "\n",
    "    with open(json2) as p:\n",
    "        data2 = json.load(p)\n",
    "    for item in data2[type_]:\n",
    "        list2.append(item)\n",
    "\n",
    "    return list1 + list2"
   ]
  },
  {
   "cell_type": "code",
   "execution_count": 4,
   "metadata": {},
   "outputs": [],
   "source": [
    "full_item_annotation = merge_json(str(DATA_PATH / 'train_annotation.json'), str(DATA_PATH / 'val_annotation.json'), type_='annotations')"
   ]
  },
  {
   "cell_type": "code",
   "execution_count": 6,
   "metadata": {},
   "outputs": [],
   "source": [
    "full_item_question = merge_json(str(DATA_PATH / 'train_question.json'), str(DATA_PATH / 'val_question.json'), type_='questions')"
   ]
  },
  {
   "cell_type": "markdown",
   "metadata": {},
   "source": [
    "# Step 2: Calculate number of top used words, label encoder"
   ]
  },
  {
   "cell_type": "code",
   "execution_count": 7,
   "metadata": {},
   "outputs": [],
   "source": [
    "def get_top_words(full_item, ratio=None, top_k=None):\n",
    "    wc = dict()\n",
    "    for item in full_item:\n",
    "        for answer in item['answers']:\n",
    "            ans = answer['answer']\n",
    "            for an in ans.split():\n",
    "                if an not in wc:\n",
    "                    wc[an] = 0\n",
    "                wc[an] += 1\n",
    "    sorted_x = sorted(wc.items(), key=lambda x: x[1], reverse=True)\n",
    "    if ratio:\n",
    "        return sorted_x[:int(len(sorted_x) * ratio)]\n",
    "    elif top_k:\n",
    "        return sorted_x[:top_k]"
   ]
  },
  {
   "cell_type": "code",
   "execution_count": 7,
   "metadata": {},
   "outputs": [],
   "source": [
    "def get_top_answer(full_item, ratio=None, top_k=None):\n",
    "    dictionary = dict()\n",
    "    for item in full_item:\n",
    "        for answer in item['answers']:\n",
    "            ans = answer['answer']\n",
    "            if ans not in dictionary:\n",
    "                dictionary[ans] = 0\n",
    "            dictionary[ans] += 1\n",
    "    sorted_x = sorted(dictionary.items(), key=lambda x: x[1], reverse=True)\n",
    "    print(\"All unique answers: \", len(sorted_x))\n",
    "    if ratio:\n",
    "        return sorted_x[:int(len(sorted_x) * ratio)]\n",
    "    elif top_k:\n",
    "        return sorted_x[:top_k]"
   ]
  },
  {
   "cell_type": "code",
   "execution_count": 8,
   "metadata": {},
   "outputs": [
    {
     "name": "stdout",
     "output_type": "stream",
     "text": [
      "All unique answers:  219875\n"
     ]
    }
   ],
   "source": [
    "top_answers = get_top_answer(full_item_annotation, ratio=None, top_k=1000)\n",
    "top_answers = [k[0] for k in top_answers]"
   ]
  },
  {
   "cell_type": "code",
   "execution_count": 17,
   "metadata": {},
   "outputs": [],
   "source": [
    "wc = get_top_words(full_item, top_k=1000)\n",
    "wc = [k[0] for k in wc]"
   ]
  },
  {
   "cell_type": "code",
   "execution_count": 31,
   "metadata": {},
   "outputs": [],
   "source": [
    "def dem_do_phu_tu(full_item, wc):\n",
    "    cnt = 0 \n",
    "    total = 0\n",
    "    wc = {k: '' for k in wc}\n",
    "    for item in tqdm(full_item):\n",
    "        for answer in item['answers']:\n",
    "            ans = answer['answer']\n",
    "            total += 1\n",
    "            for an in ans.split(): \n",
    "                if an in wc:\n",
    "                    continue\n",
    "                else:\n",
    "                    break\n",
    "            else:\n",
    "                cnt += 1\n",
    "    print('Count: ', cnt)\n",
    "    print('Total answers: ', total)\n",
    "    print('{}% of data use {} words'.format((cnt/total) * 100, len(wc)))\n",
    "    return cnt/total"
   ]
  },
  {
   "cell_type": "code",
   "execution_count": 9,
   "metadata": {},
   "outputs": [],
   "source": [
    "def dem_do_phu_ans(full_item, top_answer):\n",
    "    cnt = 0 \n",
    "    total = 0\n",
    "    top_answer = {k: '' for k in top_answer}\n",
    "    for item in tqdm(full_item):\n",
    "        for answer in item['answers']:\n",
    "            ans = answer['answer']\n",
    "            total += 1\n",
    "            if ans in top_answer:\n",
    "                cnt += 1\n",
    "                \n",
    "    print('Count: ', cnt)\n",
    "    print('Total answers: ', total)\n",
    "    print('{}% of data use {} answers'.format((cnt/total) * 100, len(top_answer)))\n",
    "    return cnt/total"
   ]
  },
  {
   "cell_type": "code",
   "execution_count": 9,
   "metadata": {},
   "outputs": [
    {
     "ename": "NameError",
     "evalue": "name 'dem_do_phu_tu' is not defined",
     "output_type": "error",
     "traceback": [
      "\u001b[0;31m---------------------------------------------------------------------------\u001b[0m",
      "\u001b[0;31mNameError\u001b[0m                                 Traceback (most recent call last)",
      "\u001b[0;32m<ipython-input-9-ed44680763a9>\u001b[0m in \u001b[0;36m<module>\u001b[0;34m\u001b[0m\n\u001b[0;32m----> 1\u001b[0;31m \u001b[0mdem_do_phu_tu\u001b[0m\u001b[0;34m(\u001b[0m\u001b[0mfull_item\u001b[0m\u001b[0;34m,\u001b[0m \u001b[0mwc\u001b[0m\u001b[0;34m)\u001b[0m\u001b[0;34m\u001b[0m\u001b[0m\n\u001b[0m",
      "\u001b[0;31mNameError\u001b[0m: name 'dem_do_phu_tu' is not defined"
     ]
    }
   ],
   "source": [
    "dem_do_phu_tu(full_item, wc)"
   ]
  },
  {
   "cell_type": "code",
   "execution_count": 10,
   "metadata": {},
   "outputs": [
    {
     "name": "stderr",
     "output_type": "stream",
     "text": [
      "100%|██████████| 658111/658111 [00:01<00:00, 446401.74it/s]"
     ]
    },
    {
     "name": "stdout",
     "output_type": "stream",
     "text": [
      "Count:  5460952\n",
      "Total answers:  6581110\n",
      "82.97919347951941% of data use 1000 answers\n"
     ]
    },
    {
     "name": "stderr",
     "output_type": "stream",
     "text": [
      "\n"
     ]
    },
    {
     "data": {
      "text/plain": [
       "0.8297919347951941"
      ]
     },
     "execution_count": 10,
     "metadata": {},
     "output_type": "execute_result"
    }
   ],
   "source": [
    "dem_do_phu_ans(full_item_annotation, top_answers)"
   ]
  },
  {
   "cell_type": "code",
   "execution_count": 12,
   "metadata": {},
   "outputs": [],
   "source": [
    "le = LabelEncoder()"
   ]
  },
  {
   "cell_type": "code",
   "execution_count": 13,
   "metadata": {},
   "outputs": [
    {
     "data": {
      "text/plain": [
       "LabelEncoder()"
      ]
     },
     "execution_count": 13,
     "metadata": {},
     "output_type": "execute_result"
    }
   ],
   "source": [
    "le.fit(top_answers)"
   ]
  },
  {
   "cell_type": "code",
   "execution_count": 15,
   "metadata": {},
   "outputs": [
    {
     "data": {
      "text/plain": [
       "True"
      ]
     },
     "execution_count": 15,
     "metadata": {},
     "output_type": "execute_result"
    }
   ],
   "source": [
    "'yes' in le.classes_"
   ]
  },
  {
   "cell_type": "code",
   "execution_count": 17,
   "metadata": {},
   "outputs": [],
   "source": [
    "with open(str(RESOURCES / 'le.pkl'), 'wb') as f:\n",
    "    pickle.dump(le, f)"
   ]
  },
  {
   "cell_type": "markdown",
   "metadata": {},
   "source": [
    "# Step 3: Create pair questionId-answer, which answer have word in wc"
   ]
  },
  {
   "cell_type": "code",
   "execution_count": 24,
   "metadata": {},
   "outputs": [
    {
     "data": {
      "text/plain": [
       "{'number', 'other', 'yes/no'}"
      ]
     },
     "execution_count": 24,
     "metadata": {},
     "output_type": "execute_result"
    }
   ],
   "source": [
    "temp = []\n",
    "for i in full_item_annotation:\n",
    "    temp.append(i['answer_type'])\n",
    "set(temp)"
   ]
  },
  {
   "cell_type": "code",
   "execution_count": 22,
   "metadata": {},
   "outputs": [
    {
     "data": {
      "text/plain": [
       "{'answer_type': 'other',\n",
       " 'answers': [{'answer': 'shower head',\n",
       "   'answer_confidence': 'yes',\n",
       "   'answer_id': 1},\n",
       "  {'answer': 'shower and bathtub', 'answer_confidence': 'yes', 'answer_id': 2},\n",
       "  {'answer': 'bathtub', 'answer_confidence': 'maybe', 'answer_id': 3},\n",
       "  {'answer': 'shower', 'answer_confidence': 'yes', 'answer_id': 4},\n",
       "  {'answer': 'shower', 'answer_confidence': 'yes', 'answer_id': 5},\n",
       "  {'answer': 'paper', 'answer_confidence': 'yes', 'answer_id': 6},\n",
       "  {'answer': 'bathtub', 'answer_confidence': 'yes', 'answer_id': 7},\n",
       "  {'answer': 'person', 'answer_confidence': 'yes', 'answer_id': 8},\n",
       "  {'answer': 'bathtub', 'answer_confidence': 'yes', 'answer_id': 9},\n",
       "  {'answer': 'shower', 'answer_confidence': 'yes', 'answer_id': 10}],\n",
       " 'image_id': 546179,\n",
       " 'multiple_choice_answer': 'shower',\n",
       " 'question_id': 546179002,\n",
       " 'question_type': 'none of the above'}"
      ]
     },
     "execution_count": 22,
     "metadata": {},
     "output_type": "execute_result"
    }
   ],
   "source": [
    "full_item_annotation[9051]"
   ]
  },
  {
   "cell_type": "code",
   "execution_count": 19,
   "metadata": {},
   "outputs": [],
   "source": [
    "def quesid_ans(full_item, top_answers, save_txt=False):\n",
    "    lines = list()\n",
    "    total = 0\n",
    "    top_answers = {k: '' for k in top_answers}\n",
    "    dictionary = dict()\n",
    "    for item in tqdm(full_item):\n",
    "        total += 1\n",
    "        answer = item['multiple_choice_answer']\n",
    "        if answer in top_answers:\n",
    "            question_id = item['question_id']\n",
    "            line = str(question_id) + \"\\t\" + answer\n",
    "            lines.append(line)\n",
    "            dictionary.setdefault(question_id, answer)\n",
    "\n",
    "    if save_txt:\n",
    "        data = \"\\n\".join(lines)\n",
    "        with open(str(RESOURCES / 'questionId_answer.txt'), 'w') as f:\n",
    "            f.write(data)\n",
    "    \n",
    "    print(\"Total answers: \", total * 10)\n",
    "    print(\"Number of answer after filtering: \", len(lines))\n",
    "    return dictionary"
   ]
  },
  {
   "cell_type": "code",
   "execution_count": 20,
   "metadata": {},
   "outputs": [
    {
     "name": "stderr",
     "output_type": "stream",
     "text": [
      "100%|██████████| 658111/658111 [00:01<00:00, 616035.34it/s]"
     ]
    },
    {
     "name": "stdout",
     "output_type": "stream",
     "text": [
      "Total answers:  6581110\n",
      "Number of answer after filtering:  572794\n"
     ]
    },
    {
     "name": "stderr",
     "output_type": "stream",
     "text": [
      "\n"
     ]
    }
   ],
   "source": [
    "questionId_answer = quesid_ans(full_item_annotation, top_answers, save_txt=True)"
   ]
  },
  {
   "cell_type": "code",
   "execution_count": 21,
   "metadata": {},
   "outputs": [
    {
     "name": "stderr",
     "output_type": "stream",
     "text": [
      "100%|██████████| 572794/572794 [00:01<00:00, 507560.40it/s]\n"
     ]
    }
   ],
   "source": [
    "for key, val in tqdm(questionId_answer.items()):\n",
    "    assert (val in top_answers) == True"
   ]
  },
  {
   "cell_type": "code",
   "execution_count": 22,
   "metadata": {},
   "outputs": [],
   "source": [
    "with open(str(RESOURCES / 'questionID_answer.pkl'), 'wb') as f:\n",
    "    pickle.dump(questionId_answer, f)"
   ]
  },
  {
   "cell_type": "markdown",
   "metadata": {},
   "source": [
    "# Step 4: Create imageID_questionID"
   ]
  },
  {
   "cell_type": "code",
   "execution_count": 23,
   "metadata": {},
   "outputs": [],
   "source": [
    "def imageId_question(full_item, questionId_answer, save_txt=False):\n",
    "    question_id = {k: '' for k in questionId_answer.keys()}\n",
    "    dictionary = dict()\n",
    "    lines = list()\n",
    "    for item in tqdm(full_item):\n",
    "        image_id = item['image_id']\n",
    "        if image_id not in dictionary:\n",
    "            dictionary[image_id] = list()\n",
    "        ques_id = item['question_id']\n",
    "        if ques_id in question_id:\n",
    "            dictionary[image_id].append(ques_id)\n",
    "            line = str(image_id) + '\\t' + str(ques_id)\n",
    "            lines.append(line)\n",
    "    if save_txt:\n",
    "        data = \"\\n\".join(lines)\n",
    "        with open(str(RESOURCES / 'imageID_questionID.txt'), 'w') as f:\n",
    "            f.write(data)\n",
    "    return dictionary\n",
    "            "
   ]
  },
  {
   "cell_type": "code",
   "execution_count": 24,
   "metadata": {},
   "outputs": [
    {
     "name": "stderr",
     "output_type": "stream",
     "text": [
      "100%|██████████| 658111/658111 [00:02<00:00, 282982.40it/s]\n"
     ]
    }
   ],
   "source": [
    "imageId_quesID = imageId_question(full_item_annotation, questionId_answer, save_txt=True)"
   ]
  },
  {
   "cell_type": "code",
   "execution_count": 25,
   "metadata": {},
   "outputs": [
    {
     "data": {
      "text/plain": [
       "123287"
      ]
     },
     "execution_count": 25,
     "metadata": {},
     "output_type": "execute_result"
    }
   ],
   "source": [
    "len(imageId_quesID)"
   ]
  },
  {
   "cell_type": "code",
   "execution_count": 26,
   "metadata": {},
   "outputs": [],
   "source": [
    "with open(str(RESOURCES / 'imageID_questionID.pkl'), 'wb') as f:\n",
    "    pickle.dump(imageId_quesID, f)"
   ]
  },
  {
   "cell_type": "markdown",
   "metadata": {},
   "source": [
    "# Step 5: Split data according to train, val 2017"
   ]
  },
  {
   "cell_type": "code",
   "execution_count": 27,
   "metadata": {},
   "outputs": [],
   "source": [
    "def create_2017_data(imageId_quesID, data2017):\n",
    "    data = dict()\n",
    "    for id_ in tqdm(data2017): \n",
    "        if id_ in imageId_quesID:\n",
    "            data[id_] = imageId_quesID[id_]\n",
    "    return data   "
   ]
  },
  {
   "cell_type": "code",
   "execution_count": 28,
   "metadata": {},
   "outputs": [
    {
     "name": "stderr",
     "output_type": "stream",
     "text": [
      "100%|██████████| 118287/118287 [00:00<00:00, 1142407.62it/s]\n",
      "100%|██████████| 5000/5000 [00:00<00:00, 1028570.31it/s]\n"
     ]
    }
   ],
   "source": [
    "train2017 = create_2017_data(imageId_quesID, train_id_2017)\n",
    "val2017 = create_2017_data(imageId_quesID, val_id_2017)"
   ]
  },
  {
   "cell_type": "code",
   "execution_count": 36,
   "metadata": {},
   "outputs": [
    {
     "data": {
      "text/plain": [
       "118287"
      ]
     },
     "execution_count": 36,
     "metadata": {},
     "output_type": "execute_result"
    }
   ],
   "source": [
    "len(train2017)"
   ]
  },
  {
   "cell_type": "code",
   "execution_count": 37,
   "metadata": {},
   "outputs": [
    {
     "data": {
      "text/plain": [
       "5000"
      ]
     },
     "execution_count": 37,
     "metadata": {},
     "output_type": "execute_result"
    }
   ],
   "source": [
    "len(val2017)"
   ]
  },
  {
   "cell_type": "code",
   "execution_count": 29,
   "metadata": {},
   "outputs": [],
   "source": [
    "with open(str(RESOURCES / 'train2017.pkl'), 'wb') as f:\n",
    "    pickle.dump(train2017, f)\n",
    "    \n",
    "with open(str(RESOURCES / 'val2017.pkl'), 'wb') as p:\n",
    "    pickle.dump(val2017, p)"
   ]
  },
  {
   "cell_type": "code",
   "execution_count": null,
   "metadata": {},
   "outputs": [],
   "source": []
  }
 ],
 "metadata": {
  "file_extension": ".py",
  "kernelspec": {
   "display_name": "Python 3",
   "language": "python",
   "name": "python3"
  },
  "language_info": {
   "codemirror_mode": {
    "name": "ipython",
    "version": 3
   },
   "file_extension": ".py",
   "mimetype": "text/x-python",
   "name": "python",
   "nbconvert_exporter": "python",
   "pygments_lexer": "ipython3",
   "version": "3.7.4"
  },
  "mimetype": "text/x-python",
  "name": "python",
  "npconvert_exporter": "python",
  "pygments_lexer": "ipython3",
  "version": 3
 },
 "nbformat": 4,
 "nbformat_minor": 4
}
