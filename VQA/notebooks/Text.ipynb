{
 "cells": [
  {
   "cell_type": "code",
   "execution_count": 1,
   "metadata": {},
   "outputs": [],
   "source": [
    "from pathlib import Path\n",
    "root = Path.cwd().parent\n",
    "RESOURCES = root / 'resources'\n",
    "DATA = root / 'data'"
   ]
  },
  {
   "cell_type": "code",
   "execution_count": 2,
   "metadata": {},
   "outputs": [],
   "source": [
    "import pickle\n",
    "from tqdm import tqdm\n",
    "import pandas as pd\n",
    "import json"
   ]
  },
  {
   "cell_type": "code",
   "execution_count": 3,
   "metadata": {},
   "outputs": [],
   "source": [
    "with open(str(RESOURCES / 'train2017.pkl'), 'rb') as f:\n",
    "    train2017 = pickle.load(f)"
   ]
  },
  {
   "cell_type": "code",
   "execution_count": 4,
   "metadata": {},
   "outputs": [],
   "source": [
    "with open(str(RESOURCES / 'val2017.pkl'), 'rb') as f:\n",
    "    val2017 = pickle.load(f)"
   ]
  },
  {
   "cell_type": "code",
   "execution_count": 6,
   "metadata": {},
   "outputs": [],
   "source": [
    "with open(str(RESOURCES / 'full_questions.pkl'), 'rb') as f:\n",
    "    full_question = pickle.load(f)"
   ]
  },
  {
   "cell_type": "code",
   "execution_count": 7,
   "metadata": {},
   "outputs": [],
   "source": [
    "with open(str(RESOURCES / 'questionID_answer.pkl'), 'rb') as f:\n",
    "    questionID_answers = pickle.load(f)"
   ]
  },
  {
   "cell_type": "code",
   "execution_count": 9,
   "metadata": {},
   "outputs": [],
   "source": [
    "quesid_ques = {item['question_id']: item['question'] for item in full_question if item['question_id'] in questionID_answers}"
   ]
  },
  {
   "cell_type": "code",
   "execution_count": 32,
   "metadata": {},
   "outputs": [],
   "source": [
    "def create_data(data2017, quesid_ques, questionID_answers):\n",
    "    data = []\n",
    "    for image_id, question_ids in tqdm(data2017.items()):\n",
    "        img_id = image_id\n",
    "        for id_ in question_ids:\n",
    "            question = quesid_ques[id_]\n",
    "            answer = questionID_answers[id_]\n",
    "            data.append([img_id, question, answer])\n",
    "    return data"
   ]
  },
  {
   "cell_type": "code",
   "execution_count": 33,
   "metadata": {},
   "outputs": [],
   "source": [
    "def create_df(data, save=False, filepath=None):\n",
    "    df = pd.DataFrame(data, columns=['image_id', 'question', 'answer'])\n",
    "    if save:\n",
    "        df.to_csv(filepath)\n",
    "    return df"
   ]
  },
  {
   "cell_type": "code",
   "execution_count": 38,
   "metadata": {},
   "outputs": [
    {
     "name": "stderr",
     "output_type": "stream",
     "text": [
      "100%|██████████| 5000/5000 [00:00<00:00, 194285.08it/s]\n"
     ]
    }
   ],
   "source": [
    "val_data = create_data(val2017, quesid_ques, questionID_answers)"
   ]
  },
  {
   "cell_type": "code",
   "execution_count": 39,
   "metadata": {},
   "outputs": [],
   "source": [
    "val_df = create_df(val_data, save=True, filepath=str(RESOURCES / 'val_df.csv'))"
   ]
  },
  {
   "cell_type": "code",
   "execution_count": 54,
   "metadata": {},
   "outputs": [],
   "source": [
    "with open(str(RESOURCES / 'le.pkl'), 'rb') as p:\n",
    "    le = pickle.load(p)"
   ]
  },
  {
   "cell_type": "code",
   "execution_count": 57,
   "metadata": {},
   "outputs": [
    {
     "data": {
      "text/plain": [
       "True"
      ]
     },
     "execution_count": 57,
     "metadata": {},
     "output_type": "execute_result"
    }
   ],
   "source": [
    "'beanie' in le.classes_"
   ]
  },
  {
   "cell_type": "markdown",
   "metadata": {},
   "source": [
    "# Test"
   ]
  },
  {
   "cell_type": "code",
   "execution_count": 58,
   "metadata": {},
   "outputs": [],
   "source": [
    "def check(df):\n",
    "    with open(str(RESOURCES / 'le.pkl'), 'rb') as f:\n",
    "        le = pickle.load(f)\n",
    "    check_word = {w: '' for w in le.classes_}\n",
    "    for answer in df['answer'].values:\n",
    "        assert (answer in check_word) == True, print(answer)\n",
    "    return 'All good'"
   ]
  },
  {
   "cell_type": "code",
   "execution_count": 60,
   "metadata": {},
   "outputs": [
    {
     "data": {
      "text/plain": [
       "'All good'"
      ]
     },
     "execution_count": 60,
     "metadata": {},
     "output_type": "execute_result"
    }
   ],
   "source": [
    "check(val_df)"
   ]
  },
  {
   "cell_type": "code",
   "execution_count": null,
   "metadata": {},
   "outputs": [],
   "source": []
  }
 ],
 "metadata": {
  "kernelspec": {
   "display_name": "Python 3",
   "language": "python",
   "name": "python3"
  },
  "language_info": {
   "codemirror_mode": {
    "name": "ipython",
    "version": 3
   },
   "file_extension": ".py",
   "mimetype": "text/x-python",
   "name": "python",
   "nbconvert_exporter": "python",
   "pygments_lexer": "ipython3",
   "version": "3.7.4"
  }
 },
 "nbformat": 4,
 "nbformat_minor": 4
}
